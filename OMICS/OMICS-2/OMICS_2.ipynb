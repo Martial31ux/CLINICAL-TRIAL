{
 "cells": [
  {
   "cell_type": "code",
   "execution_count": 334,
   "metadata": {},
   "outputs": [],
   "source": [
    "import pyreadr\n",
    "\n",
    "train = pyreadr.read_r('data_train.rds') # also works for RData\n",
    "test = pyreadr.read_r('data_test.rds') # also works for RData\n",
    "\n"
   ]
  },
  {
   "cell_type": "code",
   "execution_count": 335,
   "metadata": {},
   "outputs": [],
   "source": [
    "import pandas as pd\n",
    "import gc\n",
    "import numpy as np\n",
    "from sklearn.model_selection import train_test_split\n",
    "from sklearn.ensemble import RandomForestClassifier\n",
    "from sklearn.metrics import roc_auc_score\n",
    "import time\n",
    "from sklearn.metrics import confusion_matrix\n",
    "from sklearn.metrics import roc_curve, accuracy_score, plot_roc_curve\n",
    "from sklearn.preprocessing import MaxAbsScaler\n",
    "import matplotlib.pyplot as plt"
   ]
  },
  {
   "cell_type": "code",
   "execution_count": 336,
   "metadata": {},
   "outputs": [],
   "source": [
    "train_df = train[None]\n",
    "test_df = test[None]"
   ]
  },
  {
   "cell_type": "code",
   "execution_count": 337,
   "metadata": {},
   "outputs": [],
   "source": [
    "mapping = {'M': 1, 'F': 0}\n",
    "train_df.replace({'sex': mapping},inplace=True)\n",
    "test_df.replace({'sex': mapping},inplace=True)\n",
    "\n",
    "mapping2 = {'AD': 0, 'SC': 1}\n",
    "train_df.replace({'histology': mapping2},inplace=True)"
   ]
  },
  {
   "cell_type": "code",
   "execution_count": 338,
   "metadata": {},
   "outputs": [],
   "source": [
    "mapping3 = {False: 0, True: 1}\n",
    "train_df.replace({'dead': mapping3},inplace=True)"
   ]
  },
  {
   "cell_type": "code",
   "execution_count": 339,
   "metadata": {},
   "outputs": [],
   "source": [
    "mapping4 = {'FALSE': 0, 'TRUE': 1, np.nan :0}\n",
    "train_df.replace({'dead_at_censor_months': mapping4},inplace=True)"
   ]
  },
  {
   "cell_type": "code",
   "execution_count": 340,
   "metadata": {},
   "outputs": [
    {
     "data": {
      "text/plain": [
       "0    364\n",
       "1     44\n",
       "Name: dead_at_censor_months, dtype: int64"
      ]
     },
     "execution_count": 340,
     "metadata": {},
     "output_type": "execute_result"
    }
   ],
   "source": [
    "train_df['dead_at_censor_months'].value_counts()"
   ]
  },
  {
   "cell_type": "code",
   "execution_count": 341,
   "metadata": {},
   "outputs": [],
   "source": [
    "labels = train_df['dead_at_censor_months']"
   ]
  },
  {
   "cell_type": "code",
   "execution_count": 342,
   "metadata": {},
   "outputs": [],
   "source": [
    "train_cont = train_df.iloc[:,6:].copy()\n",
    "test_cont = test_df.iloc[:,6:].copy()"
   ]
  },
  {
   "cell_type": "code",
   "execution_count": 343,
   "metadata": {},
   "outputs": [],
   "source": [
    "from sklearn.preprocessing import StandardScaler\n",
    "scaler = StandardScaler()\n",
    "# Fit on training set only.\n",
    "scaler.fit(train_cont)\n",
    "# Apply transform to both the training set and the test set.\n",
    "train_cont = scaler.transform(train_cont)\n",
    "test_cont = scaler.transform(test_cont)"
   ]
  },
  {
   "cell_type": "code",
   "execution_count": 344,
   "metadata": {},
   "outputs": [],
   "source": [
    "from sklearn.decomposition import PCA\n",
    "# Make an instance of the Model\n",
    "\n",
    "pca = PCA(.97)\n",
    "pca.fit(train_cont)\n",
    "train_cont = pca.transform(train_cont)\n",
    "test_cont = pca.transform(test_cont)"
   ]
  },
  {
   "cell_type": "code",
   "execution_count": 345,
   "metadata": {},
   "outputs": [],
   "source": [
    "train_df['age2'] = train_df['age']\n",
    "test_df['age2'] = test_df['age']\n",
    "scaler.fit(train_df[['age','age2']])\n",
    "# Apply transform to both the training set and the test set.\n",
    "train_oth = scaler.transform(train_df[['age','age2']])\n",
    "test_oth = scaler.transform(test_df[['age','age2']])"
   ]
  },
  {
   "cell_type": "code",
   "execution_count": 346,
   "metadata": {},
   "outputs": [],
   "source": [
    "train_oth[:,1]=train_df['sex'].values\n",
    "test_oth[:,1]=test_df['sex'].values"
   ]
  },
  {
   "cell_type": "code",
   "execution_count": 347,
   "metadata": {},
   "outputs": [],
   "source": [
    "from scipy import stats\n",
    "def T_Test(features,labels):\n",
    "    t_test = [] #prealocate\n",
    "    for y in range(0,np.shape(features)[1]):\n",
    "        t_test.append(stats.ttest_ind(features[np.where(labels==1),y][0],features[np.where(labels==0),y][0])[0]) # perform t-test for each feature and record result\n",
    "    t_test = np.absolute(np.array(t_test)) #take absoolute values of t-test statistic\n",
    "    feature_set = t_test.argsort()[::-1][:60] # find rank idexes from lowest to highest, reverse an array and take 10 first elements - indecies of 10 highest t statistics\n",
    "    return feature_set"
   ]
  },
  {
   "cell_type": "code",
   "execution_count": 348,
   "metadata": {},
   "outputs": [
    {
     "data": {
      "text/plain": [
       "300"
      ]
     },
     "execution_count": 348,
     "metadata": {},
     "output_type": "execute_result"
    }
   ],
   "source": [
    "test_df.isna().sum().sum()"
   ]
  },
  {
   "cell_type": "code",
   "execution_count": 349,
   "metadata": {},
   "outputs": [],
   "source": [
    "feature_set = T_Test(features=train_cont,labels=labels)"
   ]
  },
  {
   "cell_type": "code",
   "execution_count": 350,
   "metadata": {},
   "outputs": [],
   "source": [
    "train_cont = train_cont[:,feature_set]\n",
    "test_cont = test_cont[:,feature_set]"
   ]
  },
  {
   "cell_type": "code",
   "execution_count": 351,
   "metadata": {},
   "outputs": [],
   "source": [
    "X_train = np.hstack((train_oth,train_cont))\n",
    "X_test = np.hstack((test_oth,test_cont))"
   ]
  },
  {
   "cell_type": "code",
   "execution_count": 353,
   "metadata": {},
   "outputs": [
    {
     "name": "stdout",
     "output_type": "stream",
     "text": [
      "f1: 0.504 (0.250)\n"
     ]
    }
   ],
   "source": [
    "from sklearn.svm import SVC\n",
    "from sklearn.ensemble import RandomForestClassifier\n",
    "from sklearn.model_selection import KFold, cross_val_score\n",
    "cv = KFold(n_splits=10, random_state=1, shuffle=True)\n",
    "# create model\n",
    "model = SVC(kernel=\"rbf\",class_weight='balanced')\n",
    "#model = RandomForestClassifier(n_estimators=100,\n",
    "#                               class_weight = {0:0.89215, 1: 0.10784})\n",
    "#                               class_weight='balanced')\n",
    "                               #max_features = 'sqrt')\n",
    "# evaluate model\n",
    "scores = cross_val_score(model, X_train, labels, scoring='f1', cv=cv, n_jobs=-1) #'roc_auc'\n",
    "# report performance\n",
    "print('f1: %.3f (%.3f)' % (np.mean(scores), np.std(scores)))\n",
    "model.fit(X_train, labels)\n",
    "\n",
    "# Get predictions on the test set\n",
    "y_pred = model.predict(X_test)"
   ]
  },
  {
   "cell_type": "code",
   "execution_count": 354,
   "metadata": {},
   "outputs": [],
   "source": [
    "df = pd.DataFrame(y_pred, \n",
    "             columns=['predictions'])"
   ]
  },
  {
   "cell_type": "code",
   "execution_count": 355,
   "metadata": {},
   "outputs": [],
   "source": [
    "mapping5 = {0:'FALSE', 1:'TRUE'}\n",
    "df.replace({'predictions': mapping5},inplace=True)"
   ]
  },
  {
   "cell_type": "code",
   "execution_count": 356,
   "metadata": {},
   "outputs": [
    {
     "data": {
      "text/plain": [
       "predictions\n",
       "FALSE          73\n",
       "TRUE           27\n",
       "dtype: int64"
      ]
     },
     "execution_count": 356,
     "metadata": {},
     "output_type": "execute_result"
    }
   ],
   "source": [
    "df.value_counts()"
   ]
  },
  {
   "cell_type": "code",
   "execution_count": 357,
   "metadata": {},
   "outputs": [],
   "source": [
    "df.to_csv('results.txt', index=False,header=False)"
   ]
  },
  {
   "cell_type": "code",
   "execution_count": null,
   "metadata": {},
   "outputs": [],
   "source": []
  }
 ],
 "metadata": {
  "kernelspec": {
   "display_name": "Python 3",
   "language": "python",
   "name": "python3"
  },
  "language_info": {
   "codemirror_mode": {
    "name": "ipython",
    "version": 3
   },
   "file_extension": ".py",
   "mimetype": "text/x-python",
   "name": "python",
   "nbconvert_exporter": "python",
   "pygments_lexer": "ipython3",
   "version": "3.8.5"
  }
 },
 "nbformat": 4,
 "nbformat_minor": 4
}
