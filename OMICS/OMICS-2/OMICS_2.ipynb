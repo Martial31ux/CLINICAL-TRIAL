{
 "cells": [
  {
   "cell_type": "code",
   "execution_count": 2,
   "metadata": {},
   "outputs": [
    {
     "name": "stdout",
     "output_type": "stream",
     "text": [
      "Collecting pyreadr\n",
      "  Using cached pyreadr-0.4.4-cp39-cp39-manylinux_2_17_x86_64.manylinux2014_x86_64.whl (363 kB)\n",
      "Requirement already satisfied: pandas>=1.2.0 in /opt/conda/lib/python3.9/site-packages (from pyreadr) (1.4.0)\n",
      "Requirement already satisfied: python-dateutil>=2.8.1 in /opt/conda/lib/python3.9/site-packages (from pandas>=1.2.0->pyreadr) (2.8.2)\n",
      "Requirement already satisfied: pytz>=2020.1 in /opt/conda/lib/python3.9/site-packages (from pandas>=1.2.0->pyreadr) (2021.3)\n",
      "Requirement already satisfied: numpy>=1.18.5 in /opt/conda/lib/python3.9/site-packages (from pandas>=1.2.0->pyreadr) (1.21.5)\n",
      "Requirement already satisfied: six>=1.5 in /opt/conda/lib/python3.9/site-packages (from python-dateutil>=2.8.1->pandas>=1.2.0->pyreadr) (1.16.0)\n",
      "Installing collected packages: pyreadr\n",
      "Successfully installed pyreadr-0.4.4\n"
     ]
    }
   ],
   "source": [
    "!pip install pyreadr"
   ]
  },
  {
   "cell_type": "code",
   "execution_count": 4,
   "metadata": {
    "collapsed": true,
    "jupyter": {
     "outputs_hidden": true
    },
    "tags": []
   },
   "outputs": [
    {
     "name": "stdout",
     "output_type": "stream",
     "text": [
      "Collecting lifelines\n",
      "  Downloading lifelines-0.26.4-py3-none-any.whl (348 kB)\n",
      "     |████████████████████████████████| 348 kB 9.8 MB/s            \n",
      "\u001b[?25hRequirement already satisfied: numpy>=1.14.0 in /opt/conda/lib/python3.9/site-packages (from lifelines) (1.21.5)\n",
      "Requirement already satisfied: scipy>=1.2.0 in /opt/conda/lib/python3.9/site-packages (from lifelines) (1.7.3)\n",
      "Requirement already satisfied: pandas>=0.23.0 in /opt/conda/lib/python3.9/site-packages (from lifelines) (1.4.0)\n",
      "Requirement already satisfied: matplotlib>=3.0 in /opt/conda/lib/python3.9/site-packages (from lifelines) (3.5.1)\n",
      "Collecting autograd>=1.3\n",
      "  Downloading autograd-1.3.tar.gz (38 kB)\n",
      "  Preparing metadata (setup.py) ... \u001b[?25ldone\n",
      "\u001b[?25hCollecting formulaic<0.3,>=0.2.2\n",
      "  Downloading formulaic-0.2.4-py3-none-any.whl (55 kB)\n",
      "     |████████████████████████████████| 55 kB 4.9 MB/s             \n",
      "\u001b[?25hCollecting autograd-gamma>=0.3\n",
      "  Downloading autograd-gamma-0.5.0.tar.gz (4.0 kB)\n",
      "  Preparing metadata (setup.py) ... \u001b[?25ldone\n",
      "\u001b[?25hCollecting future>=0.15.2\n",
      "  Using cached future-0.18.2.tar.gz (829 kB)\n",
      "  Preparing metadata (setup.py) ... \u001b[?25ldone\n",
      "\u001b[?25hCollecting interface-meta>=1.2\n",
      "  Downloading interface_meta-1.2.4-py2.py3-none-any.whl (14 kB)\n",
      "Collecting astor\n",
      "  Downloading astor-0.8.1-py2.py3-none-any.whl (27 kB)\n",
      "Collecting wrapt\n",
      "  Downloading wrapt-1.13.3-cp39-cp39-manylinux_2_5_x86_64.manylinux1_x86_64.manylinux_2_12_x86_64.manylinux2010_x86_64.whl (81 kB)\n",
      "     |████████████████████████████████| 81 kB 10.8 MB/s            \n",
      "\u001b[?25hRequirement already satisfied: pyparsing>=2.2.1 in /opt/conda/lib/python3.9/site-packages (from matplotlib>=3.0->lifelines) (3.0.7)\n",
      "Requirement already satisfied: kiwisolver>=1.0.1 in /opt/conda/lib/python3.9/site-packages (from matplotlib>=3.0->lifelines) (1.3.2)\n",
      "Requirement already satisfied: packaging>=20.0 in /opt/conda/lib/python3.9/site-packages (from matplotlib>=3.0->lifelines) (21.3)\n",
      "Requirement already satisfied: python-dateutil>=2.7 in /opt/conda/lib/python3.9/site-packages (from matplotlib>=3.0->lifelines) (2.8.2)\n",
      "Requirement already satisfied: fonttools>=4.22.0 in /opt/conda/lib/python3.9/site-packages (from matplotlib>=3.0->lifelines) (4.29.0)\n",
      "Requirement already satisfied: cycler>=0.10 in /opt/conda/lib/python3.9/site-packages (from matplotlib>=3.0->lifelines) (0.11.0)\n",
      "Requirement already satisfied: pillow>=6.2.0 in /opt/conda/lib/python3.9/site-packages (from matplotlib>=3.0->lifelines) (8.4.0)\n",
      "Requirement already satisfied: pytz>=2020.1 in /opt/conda/lib/python3.9/site-packages (from pandas>=0.23.0->lifelines) (2021.3)\n",
      "Requirement already satisfied: six>=1.5 in /opt/conda/lib/python3.9/site-packages (from python-dateutil>=2.7->matplotlib>=3.0->lifelines) (1.16.0)\n",
      "Building wheels for collected packages: autograd, autograd-gamma, future\n",
      "  Building wheel for autograd (setup.py) ... \u001b[?25ldone\n",
      "\u001b[?25h  Created wheel for autograd: filename=autograd-1.3-py3-none-any.whl size=47988 sha256=e39a0bc2d143851f0fc97ebcac949a879f80ec6e4c41d6f7041198e5334b6145\n",
      "  Stored in directory: /home/jovyan/.cache/pip/wheels/b6/86/a9/2c2d40e3c7d837ca251d7cb66f06a283c8679fa17421e8ddeb\n",
      "  Building wheel for autograd-gamma (setup.py) ... \u001b[?25ldone\n",
      "\u001b[?25h  Created wheel for autograd-gamma: filename=autograd_gamma-0.5.0-py3-none-any.whl size=4048 sha256=5cc0c52aeffca009e00c24327bc2719e5b6a39ba343c10641fbd5b04220fdb91\n",
      "  Stored in directory: /home/jovyan/.cache/pip/wheels/a8/03/64/8557323821d25118c3a2dc1646996f7a962a8970d4b7d22473\n",
      "  Building wheel for future (setup.py) ... \u001b[?25ldone\n",
      "\u001b[?25h  Created wheel for future: filename=future-0.18.2-py3-none-any.whl size=491070 sha256=1efb96ee343081646cbe9de552142bbf49b412be30eff697b726d85ded160d4c\n",
      "  Stored in directory: /home/jovyan/.cache/pip/wheels/2f/a0/d3/4030d9f80e6b3be787f19fc911b8e7aa462986a40ab1e4bb94\n",
      "Successfully built autograd autograd-gamma future\n",
      "Installing collected packages: future, wrapt, interface-meta, autograd, astor, formulaic, autograd-gamma, lifelines\n",
      "Successfully installed astor-0.8.1 autograd-1.3 autograd-gamma-0.5.0 formulaic-0.2.4 future-0.18.2 interface-meta-1.2.4 lifelines-0.26.4 wrapt-1.13.3\n"
     ]
    }
   ],
   "source": [
    "!pip install lifelines"
   ]
  },
  {
   "cell_type": "code",
   "execution_count": 35,
   "metadata": {},
   "outputs": [],
   "source": [
    "import pyreadr\n",
    "import numpy as np\n",
    "import pandas as pd\n",
    "import matplotlib.pyplot as plt\n",
    "from sklearn import preprocessing\n",
    "from sklearn.decomposition import PCA\n",
    "from sklearn.model_selection import train_test_split\n",
    "from sklearn.cluster import DBSCAN\n",
    "from lifelines.fitters.coxph_fitter import CoxPHFitter"
   ]
  },
  {
   "cell_type": "code",
   "execution_count": 36,
   "metadata": {},
   "outputs": [],
   "source": [
    "train_data = pyreadr.read_r('data_train.rds')[None]"
   ]
  },
  {
   "cell_type": "code",
   "execution_count": 37,
   "metadata": {},
   "outputs": [],
   "source": [
    "NUM_GENES = 10"
   ]
  },
  {
   "cell_type": "markdown",
   "metadata": {},
   "source": [
    "## 1. Data exploration"
   ]
  },
  {
   "cell_type": "code",
   "execution_count": 38,
   "metadata": {},
   "outputs": [
    {
     "data": {
      "text/html": [
       "<div>\n",
       "<style scoped>\n",
       "    .dataframe tbody tr th:only-of-type {\n",
       "        vertical-align: middle;\n",
       "    }\n",
       "\n",
       "    .dataframe tbody tr th {\n",
       "        vertical-align: top;\n",
       "    }\n",
       "\n",
       "    .dataframe thead th {\n",
       "        text-align: right;\n",
       "    }\n",
       "</style>\n",
       "<table border=\"1\" class=\"dataframe\">\n",
       "  <thead>\n",
       "    <tr style=\"text-align: right;\">\n",
       "      <th></th>\n",
       "      <th>age</th>\n",
       "      <th>sex</th>\n",
       "      <th>histology</th>\n",
       "      <th>os_months</th>\n",
       "      <th>dead</th>\n",
       "      <th>dead_at_censor_months</th>\n",
       "      <th>MIR107</th>\n",
       "      <th>CT45A10</th>\n",
       "      <th>ATP10B</th>\n",
       "      <th>TMEM134</th>\n",
       "      <th>...</th>\n",
       "      <th>cg00055848</th>\n",
       "      <th>cg17124408</th>\n",
       "      <th>cg01751470</th>\n",
       "      <th>cg03209541</th>\n",
       "      <th>cg17257676</th>\n",
       "      <th>cg09776513</th>\n",
       "      <th>cg00417165</th>\n",
       "      <th>cg10691006</th>\n",
       "      <th>cg26870192</th>\n",
       "      <th>cg18317492</th>\n",
       "    </tr>\n",
       "    <tr>\n",
       "      <th>rownames</th>\n",
       "      <th></th>\n",
       "      <th></th>\n",
       "      <th></th>\n",
       "      <th></th>\n",
       "      <th></th>\n",
       "      <th></th>\n",
       "      <th></th>\n",
       "      <th></th>\n",
       "      <th></th>\n",
       "      <th></th>\n",
       "      <th></th>\n",
       "      <th></th>\n",
       "      <th></th>\n",
       "      <th></th>\n",
       "      <th></th>\n",
       "      <th></th>\n",
       "      <th></th>\n",
       "      <th></th>\n",
       "      <th></th>\n",
       "      <th></th>\n",
       "      <th></th>\n",
       "    </tr>\n",
       "  </thead>\n",
       "  <tbody>\n",
       "    <tr>\n",
       "      <th>TEST001</th>\n",
       "      <td>35.20</td>\n",
       "      <td>M</td>\n",
       "      <td>TCGA-LGG</td>\n",
       "      <td>10.57</td>\n",
       "      <td>False</td>\n",
       "      <td>NaN</td>\n",
       "      <td>0.0</td>\n",
       "      <td>2.662403</td>\n",
       "      <td>7.912224</td>\n",
       "      <td>11.069677</td>\n",
       "      <td>...</td>\n",
       "      <td>0.029023</td>\n",
       "      <td>0.600187</td>\n",
       "      <td>0.026170</td>\n",
       "      <td>0.011748</td>\n",
       "      <td>0.027551</td>\n",
       "      <td>0.009141</td>\n",
       "      <td>0.021541</td>\n",
       "      <td>0.186937</td>\n",
       "      <td>0.053800</td>\n",
       "      <td>0.986071</td>\n",
       "    </tr>\n",
       "    <tr>\n",
       "      <th>TEST002</th>\n",
       "      <td>24.67</td>\n",
       "      <td>F</td>\n",
       "      <td>TCGA-LGG</td>\n",
       "      <td>23.80</td>\n",
       "      <td>False</td>\n",
       "      <td>NaN</td>\n",
       "      <td>0.0</td>\n",
       "      <td>0.000000</td>\n",
       "      <td>8.511476</td>\n",
       "      <td>10.496681</td>\n",
       "      <td>...</td>\n",
       "      <td>0.045516</td>\n",
       "      <td>0.729045</td>\n",
       "      <td>0.026045</td>\n",
       "      <td>0.013891</td>\n",
       "      <td>0.026960</td>\n",
       "      <td>0.009637</td>\n",
       "      <td>0.041495</td>\n",
       "      <td>0.162778</td>\n",
       "      <td>0.190160</td>\n",
       "      <td>0.985341</td>\n",
       "    </tr>\n",
       "    <tr>\n",
       "      <th>TEST003</th>\n",
       "      <td>48.39</td>\n",
       "      <td>M</td>\n",
       "      <td>TCGA-LGG</td>\n",
       "      <td>14.77</td>\n",
       "      <td>False</td>\n",
       "      <td>NaN</td>\n",
       "      <td>0.0</td>\n",
       "      <td>0.000000</td>\n",
       "      <td>9.390933</td>\n",
       "      <td>10.404901</td>\n",
       "      <td>...</td>\n",
       "      <td>0.067580</td>\n",
       "      <td>0.614413</td>\n",
       "      <td>0.022115</td>\n",
       "      <td>0.013550</td>\n",
       "      <td>0.025861</td>\n",
       "      <td>0.009314</td>\n",
       "      <td>0.043065</td>\n",
       "      <td>0.078004</td>\n",
       "      <td>0.617174</td>\n",
       "      <td>0.979573</td>\n",
       "    </tr>\n",
       "    <tr>\n",
       "      <th>TEST004</th>\n",
       "      <td>34.46</td>\n",
       "      <td>M</td>\n",
       "      <td>TCGA-LGG</td>\n",
       "      <td>0.23</td>\n",
       "      <td>False</td>\n",
       "      <td>NaN</td>\n",
       "      <td>0.0</td>\n",
       "      <td>1.242057</td>\n",
       "      <td>7.994106</td>\n",
       "      <td>10.464319</td>\n",
       "      <td>...</td>\n",
       "      <td>0.182457</td>\n",
       "      <td>0.724407</td>\n",
       "      <td>0.019426</td>\n",
       "      <td>0.012849</td>\n",
       "      <td>0.023996</td>\n",
       "      <td>0.007946</td>\n",
       "      <td>0.039243</td>\n",
       "      <td>0.447242</td>\n",
       "      <td>0.848898</td>\n",
       "      <td>0.977869</td>\n",
       "    </tr>\n",
       "    <tr>\n",
       "      <th>TEST005</th>\n",
       "      <td>38.77</td>\n",
       "      <td>F</td>\n",
       "      <td>TCGA-LGG</td>\n",
       "      <td>9.73</td>\n",
       "      <td>False</td>\n",
       "      <td>NaN</td>\n",
       "      <td>0.0</td>\n",
       "      <td>0.000000</td>\n",
       "      <td>8.885382</td>\n",
       "      <td>10.829981</td>\n",
       "      <td>...</td>\n",
       "      <td>0.035019</td>\n",
       "      <td>0.844752</td>\n",
       "      <td>0.029215</td>\n",
       "      <td>0.014706</td>\n",
       "      <td>0.035278</td>\n",
       "      <td>0.010482</td>\n",
       "      <td>0.034728</td>\n",
       "      <td>0.126422</td>\n",
       "      <td>0.169455</td>\n",
       "      <td>0.984962</td>\n",
       "    </tr>\n",
       "  </tbody>\n",
       "</table>\n",
       "<p>5 rows × 2006 columns</p>\n",
       "</div>"
      ],
      "text/plain": [
       "            age sex histology  os_months   dead dead_at_censor_months  MIR107  \\\n",
       "rownames                                                                        \n",
       "TEST001   35.20   M  TCGA-LGG      10.57  False                   NaN     0.0   \n",
       "TEST002   24.67   F  TCGA-LGG      23.80  False                   NaN     0.0   \n",
       "TEST003   48.39   M  TCGA-LGG      14.77  False                   NaN     0.0   \n",
       "TEST004   34.46   M  TCGA-LGG       0.23  False                   NaN     0.0   \n",
       "TEST005   38.77   F  TCGA-LGG       9.73  False                   NaN     0.0   \n",
       "\n",
       "           CT45A10    ATP10B    TMEM134  ...  cg00055848  cg17124408  \\\n",
       "rownames                                 ...                           \n",
       "TEST001   2.662403  7.912224  11.069677  ...    0.029023    0.600187   \n",
       "TEST002   0.000000  8.511476  10.496681  ...    0.045516    0.729045   \n",
       "TEST003   0.000000  9.390933  10.404901  ...    0.067580    0.614413   \n",
       "TEST004   1.242057  7.994106  10.464319  ...    0.182457    0.724407   \n",
       "TEST005   0.000000  8.885382  10.829981  ...    0.035019    0.844752   \n",
       "\n",
       "          cg01751470  cg03209541  cg17257676  cg09776513  cg00417165  \\\n",
       "rownames                                                               \n",
       "TEST001     0.026170    0.011748    0.027551    0.009141    0.021541   \n",
       "TEST002     0.026045    0.013891    0.026960    0.009637    0.041495   \n",
       "TEST003     0.022115    0.013550    0.025861    0.009314    0.043065   \n",
       "TEST004     0.019426    0.012849    0.023996    0.007946    0.039243   \n",
       "TEST005     0.029215    0.014706    0.035278    0.010482    0.034728   \n",
       "\n",
       "          cg10691006  cg26870192  cg18317492  \n",
       "rownames                                      \n",
       "TEST001     0.186937    0.053800    0.986071  \n",
       "TEST002     0.162778    0.190160    0.985341  \n",
       "TEST003     0.078004    0.617174    0.979573  \n",
       "TEST004     0.447242    0.848898    0.977869  \n",
       "TEST005     0.126422    0.169455    0.984962  \n",
       "\n",
       "[5 rows x 2006 columns]"
      ]
     },
     "execution_count": 38,
     "metadata": {},
     "output_type": "execute_result"
    }
   ],
   "source": [
    "train_data.head()"
   ]
  },
  {
   "cell_type": "code",
   "execution_count": 39,
   "metadata": {},
   "outputs": [
    {
     "name": "stdout",
     "output_type": "stream",
     "text": [
      "['F' 'M']\n",
      "['TCGA-LGG']\n"
     ]
    }
   ],
   "source": [
    "print(np.unique(train_data.sex))\n",
    "print(np.unique(train_data.histology))\n",
    "\n",
    "train_data.sex = (train_data.sex == 'F')\n",
    "train_data = train_data.drop(columns=['histology'])"
   ]
  },
  {
   "cell_type": "code",
   "execution_count": 40,
   "metadata": {},
   "outputs": [],
   "source": [
    "train_patient_data = train_data.loc[:, ['age', 'sex']]\n",
    "train_rna_data = train_data.iloc[:, -2000:-1000]\n",
    "train_meth_data = train_data.iloc[:, -1000:]"
   ]
  },
  {
   "cell_type": "markdown",
   "metadata": {},
   "source": [
    "### 1.1. RNA data"
   ]
  },
  {
   "cell_type": "code",
   "execution_count": 41,
   "metadata": {},
   "outputs": [
    {
     "name": "stdout",
     "output_type": "stream",
     "text": [
      "<class 'pandas.core.frame.DataFrame'>\n",
      "Index: 408 entries, TEST001 to TEST408\n",
      "Columns: 1000 entries, MIR107 to ZNF704\n",
      "dtypes: float64(1000)\n",
      "memory usage: 3.1+ MB\n"
     ]
    }
   ],
   "source": [
    "train_rna_data.info(verbose=False)"
   ]
  },
  {
   "cell_type": "code",
   "execution_count": 42,
   "metadata": {},
   "outputs": [
    {
     "data": {
      "text/plain": [
       "0"
      ]
     },
     "execution_count": 42,
     "metadata": {},
     "output_type": "execute_result"
    }
   ],
   "source": [
    "np.sum(np.sum(train_rna_data.isna()))"
   ]
  },
  {
   "cell_type": "code",
   "execution_count": 43,
   "metadata": {},
   "outputs": [
    {
     "data": {
      "text/plain": [
       "<matplotlib.collections.PathCollection at 0x7fa136ca95e0>"
      ]
     },
     "execution_count": 43,
     "metadata": {},
     "output_type": "execute_result"
    },
    {
     "data": {
      "image/png": "[encoded data removed]",
      "text/plain": [
       "<Figure size 432x288 with 1 Axes>"
      ]
     },
     "metadata": {
      "needs_background": "light"
     },
     "output_type": "display_data"
    }
   ],
   "source": [
    "pca = PCA(2)\n",
    "pca.fit(train_rna_data.T)\n",
    "plt.scatter(*pca.transform(train_rna_data.T).T)"
   ]
  },
  {
   "cell_type": "code",
   "execution_count": 44,
   "metadata": {},
   "outputs": [
    {
     "data": {
      "image/png": "[encoded data removed]",
      "text/plain": [
       "<Figure size 432x288 with 1 Axes>"
      ]
     },
     "metadata": {
      "needs_background": "light"
     },
     "output_type": "display_data"
    }
   ],
   "source": [
    "clustering = DBSCAN(eps=15, min_samples=25).fit(pca.transform(train_rna_data.T))\n",
    "plt.scatter(*pca.transform(train_rna_data.T).T, c=clustering.labels_)\n",
    "train_rna_columns = clustering.labels_>-1\n",
    "train_rna_data = train_rna_data.loc[:, train_rna_columns]"
   ]
  },
  {
   "cell_type": "code",
   "execution_count": 45,
   "metadata": {},
   "outputs": [],
   "source": [
    "pca_rna = PCA(NUM_GENES)\n",
    "train_rna_data = pca_rna.fit_transform(train_rna_data)"
   ]
  },
  {
   "cell_type": "code",
   "execution_count": 46,
   "metadata": {},
   "outputs": [],
   "source": [
    "rna_scaler = preprocessing.StandardScaler().fit(train_rna_data)\n",
    "train_rna_data = rna_scaler.transform(train_rna_data)"
   ]
  },
  {
   "cell_type": "markdown",
   "metadata": {},
   "source": [
    "### 1.2. Methylation data"
   ]
  },
  {
   "cell_type": "code",
   "execution_count": 47,
   "metadata": {},
   "outputs": [
    {
     "name": "stdout",
     "output_type": "stream",
     "text": [
      "<class 'pandas.core.frame.DataFrame'>\n",
      "Index: 408 entries, TEST001 to TEST408\n",
      "Columns: 1000 entries, cg06971096 to cg18317492\n",
      "dtypes: float64(1000)\n",
      "memory usage: 3.1+ MB\n"
     ]
    }
   ],
   "source": [
    "train_meth_data.info(verbose=False)"
   ]
  },
  {
   "cell_type": "code",
   "execution_count": 48,
   "metadata": {},
   "outputs": [
    {
     "data": {
      "text/plain": [
       "0"
      ]
     },
     "execution_count": 48,
     "metadata": {},
     "output_type": "execute_result"
    }
   ],
   "source": [
    "np.sum(np.sum(train_meth_data.isna()))"
   ]
  },
  {
   "cell_type": "code",
   "execution_count": 49,
   "metadata": {},
   "outputs": [
    {
     "data": {
      "text/plain": [
       "<matplotlib.collections.PathCollection at 0x7fa138556340>"
      ]
     },
     "execution_count": 49,
     "metadata": {},
     "output_type": "execute_result"
    },
    {
     "data": {
      "image/png": "[encoded data removed]",
      "text/plain": [
       "<Figure size 432x288 with 1 Axes>"
      ]
     },
     "metadata": {
      "needs_background": "light"
     },
     "output_type": "display_data"
    }
   ],
   "source": [
    "pca = PCA(2)\n",
    "pca.fit(train_meth_data.T)\n",
    "plt.scatter(*pca.transform(train_meth_data.T).T)"
   ]
  },
  {
   "cell_type": "code",
   "execution_count": 50,
   "metadata": {},
   "outputs": [
    {
     "data": {
      "image/png": "[encoded data removed]",
      "text/plain": [
       "<Figure size 432x288 with 1 Axes>"
      ]
     },
     "metadata": {
      "needs_background": "light"
     },
     "output_type": "display_data"
    }
   ],
   "source": [
    "clustering = DBSCAN(eps=10, min_samples=25).fit(pca.transform(train_meth_data.T))\n",
    "plt.scatter(*pca.transform(train_meth_data.T).T, c=clustering.labels_)\n",
    "train_meth_columns = clustering.labels_>-1\n",
    "train_meth_data = train_meth_data.loc[:, train_meth_columns]"
   ]
  },
  {
   "cell_type": "code",
   "execution_count": 51,
   "metadata": {},
   "outputs": [],
   "source": [
    "pca_meth = PCA(NUM_GENES)\n",
    "train_meth_data = pca_meth.fit_transform(train_meth_data)"
   ]
  },
  {
   "cell_type": "code",
   "execution_count": 52,
   "metadata": {},
   "outputs": [],
   "source": [
    "meth_scaler = preprocessing.StandardScaler().fit(train_meth_data)\n",
    "train_meth_data = meth_scaler.transform(train_meth_data)"
   ]
  },
  {
   "cell_type": "markdown",
   "metadata": {},
   "source": []
  },
  {
   "cell_type": "code",
   "execution_count": 53,
   "metadata": {},
   "outputs": [],
   "source": [
    "train_patient_data.iloc[:, 0] = train_patient_data.to_numpy()[:, 0] / np.max(train_patient_data.to_numpy()[:, 0])"
   ]
  },
  {
   "cell_type": "code",
   "execution_count": 54,
   "metadata": {},
   "outputs": [
    {
     "name": "stdout",
     "output_type": "stream",
     "text": [
      "(408, 2)\n",
      "(408, 10)\n",
      "(408, 10)\n"
     ]
    }
   ],
   "source": [
    "print(train_patient_data.shape)\n",
    "print(train_rna_data.shape)\n",
    "print(train_meth_data.shape)"
   ]
  },
  {
   "cell_type": "code",
   "execution_count": 55,
   "metadata": {},
   "outputs": [],
   "source": [
    "train_rna_data = pd.DataFrame(train_rna_data, columns=[f'rna_{i}' for i in range(train_rna_data.shape[1])])\n",
    "train_meth_data = pd.DataFrame(train_meth_data, columns=[f'meth_{i}' for i in range(train_meth_data.shape[1])])\n",
    "train_patient_data = train_patient_data.reset_index()"
   ]
  },
  {
   "cell_type": "code",
   "execution_count": 56,
   "metadata": {},
   "outputs": [],
   "source": [
    "train_x = pd.concat([train_patient_data, train_rna_data, train_meth_data, train_data.loc[:, ['os_months', 'dead']].reset_index()], axis=1, ignore_index=False).drop(columns=['rownames'])"
   ]
  },
  {
   "cell_type": "code",
   "execution_count": 57,
   "metadata": {},
   "outputs": [],
   "source": [
    "train_x, val_x= train_test_split(train_x, train_size=0.7)"
   ]
  },
  {
   "cell_type": "markdown",
   "metadata": {},
   "source": [
    "## 2. Model"
   ]
  },
  {
   "cell_type": "code",
   "execution_count": 58,
   "metadata": {},
   "outputs": [
    {
     "data": {
      "text/html": [
       "<div>\n",
       "<style scoped>\n",
       "    .dataframe tbody tr th:only-of-type {\n",
       "        vertical-align: middle;\n",
       "    }\n",
       "\n",
       "    .dataframe tbody tr th {\n",
       "        vertical-align: top;\n",
       "    }\n",
       "\n",
       "    .dataframe thead th {\n",
       "        text-align: right;\n",
       "    }\n",
       "</style>\n",
       "<table border=\"1\" class=\"dataframe\">\n",
       "  <thead>\n",
       "    <tr style=\"text-align: right;\">\n",
       "      <th></th>\n",
       "      <th>age</th>\n",
       "      <th>sex</th>\n",
       "      <th>rna_0</th>\n",
       "      <th>rna_1</th>\n",
       "      <th>rna_2</th>\n",
       "      <th>rna_3</th>\n",
       "      <th>rna_4</th>\n",
       "      <th>rna_5</th>\n",
       "      <th>rna_6</th>\n",
       "      <th>rna_7</th>\n",
       "      <th>...</th>\n",
       "      <th>meth_2</th>\n",
       "      <th>meth_3</th>\n",
       "      <th>meth_4</th>\n",
       "      <th>meth_5</th>\n",
       "      <th>meth_6</th>\n",
       "      <th>meth_7</th>\n",
       "      <th>meth_8</th>\n",
       "      <th>meth_9</th>\n",
       "      <th>os_months</th>\n",
       "      <th>dead</th>\n",
       "    </tr>\n",
       "  </thead>\n",
       "  <tbody>\n",
       "    <tr>\n",
       "      <th>210</th>\n",
       "      <td>0.361819</td>\n",
       "      <td>False</td>\n",
       "      <td>0.208513</td>\n",
       "      <td>-0.280608</td>\n",
       "      <td>-1.668480</td>\n",
       "      <td>0.575487</td>\n",
       "      <td>0.042682</td>\n",
       "      <td>-1.211594</td>\n",
       "      <td>-0.643180</td>\n",
       "      <td>0.481223</td>\n",
       "      <td>...</td>\n",
       "      <td>-0.528559</td>\n",
       "      <td>-0.773027</td>\n",
       "      <td>-0.063867</td>\n",
       "      <td>0.002381</td>\n",
       "      <td>1.088396</td>\n",
       "      <td>-0.602421</td>\n",
       "      <td>0.580696</td>\n",
       "      <td>1.423902</td>\n",
       "      <td>41.40</td>\n",
       "      <td>True</td>\n",
       "    </tr>\n",
       "    <tr>\n",
       "      <th>227</th>\n",
       "      <td>0.514013</td>\n",
       "      <td>True</td>\n",
       "      <td>1.480426</td>\n",
       "      <td>-0.878046</td>\n",
       "      <td>-1.678460</td>\n",
       "      <td>2.981747</td>\n",
       "      <td>0.251769</td>\n",
       "      <td>1.044306</td>\n",
       "      <td>0.937607</td>\n",
       "      <td>-0.563596</td>\n",
       "      <td>...</td>\n",
       "      <td>0.519211</td>\n",
       "      <td>-0.662804</td>\n",
       "      <td>0.336786</td>\n",
       "      <td>-0.943317</td>\n",
       "      <td>0.574014</td>\n",
       "      <td>-1.561432</td>\n",
       "      <td>0.280392</td>\n",
       "      <td>0.625923</td>\n",
       "      <td>20.30</td>\n",
       "      <td>False</td>\n",
       "    </tr>\n",
       "    <tr>\n",
       "      <th>175</th>\n",
       "      <td>0.262463</td>\n",
       "      <td>False</td>\n",
       "      <td>-0.508996</td>\n",
       "      <td>-1.304639</td>\n",
       "      <td>0.001803</td>\n",
       "      <td>-1.302004</td>\n",
       "      <td>0.924090</td>\n",
       "      <td>0.317242</td>\n",
       "      <td>-0.688392</td>\n",
       "      <td>-0.539895</td>\n",
       "      <td>...</td>\n",
       "      <td>0.951112</td>\n",
       "      <td>-1.796771</td>\n",
       "      <td>-0.075716</td>\n",
       "      <td>0.562526</td>\n",
       "      <td>0.285538</td>\n",
       "      <td>0.888306</td>\n",
       "      <td>-0.970845</td>\n",
       "      <td>0.049571</td>\n",
       "      <td>47.60</td>\n",
       "      <td>False</td>\n",
       "    </tr>\n",
       "    <tr>\n",
       "      <th>275</th>\n",
       "      <td>0.66816</td>\n",
       "      <td>False</td>\n",
       "      <td>-0.677295</td>\n",
       "      <td>0.381518</td>\n",
       "      <td>-0.093087</td>\n",
       "      <td>0.669003</td>\n",
       "      <td>-0.826440</td>\n",
       "      <td>0.063266</td>\n",
       "      <td>-0.946832</td>\n",
       "      <td>-0.278156</td>\n",
       "      <td>...</td>\n",
       "      <td>0.474634</td>\n",
       "      <td>1.785064</td>\n",
       "      <td>1.444104</td>\n",
       "      <td>0.389795</td>\n",
       "      <td>0.499873</td>\n",
       "      <td>-0.373611</td>\n",
       "      <td>-0.615845</td>\n",
       "      <td>0.330140</td>\n",
       "      <td>76.30</td>\n",
       "      <td>False</td>\n",
       "    </tr>\n",
       "    <tr>\n",
       "      <th>42</th>\n",
       "      <td>0.419711</td>\n",
       "      <td>True</td>\n",
       "      <td>-0.485560</td>\n",
       "      <td>0.215598</td>\n",
       "      <td>-0.317173</td>\n",
       "      <td>-0.142413</td>\n",
       "      <td>1.318994</td>\n",
       "      <td>-0.509049</td>\n",
       "      <td>1.406174</td>\n",
       "      <td>-0.036836</td>\n",
       "      <td>...</td>\n",
       "      <td>0.988675</td>\n",
       "      <td>-0.756479</td>\n",
       "      <td>0.149548</td>\n",
       "      <td>0.033520</td>\n",
       "      <td>0.968170</td>\n",
       "      <td>0.385034</td>\n",
       "      <td>0.009594</td>\n",
       "      <td>-1.275835</td>\n",
       "      <td>11.40</td>\n",
       "      <td>False</td>\n",
       "    </tr>\n",
       "    <tr>\n",
       "      <th>...</th>\n",
       "      <td>...</td>\n",
       "      <td>...</td>\n",
       "      <td>...</td>\n",
       "      <td>...</td>\n",
       "      <td>...</td>\n",
       "      <td>...</td>\n",
       "      <td>...</td>\n",
       "      <td>...</td>\n",
       "      <td>...</td>\n",
       "      <td>...</td>\n",
       "      <td>...</td>\n",
       "      <td>...</td>\n",
       "      <td>...</td>\n",
       "      <td>...</td>\n",
       "      <td>...</td>\n",
       "      <td>...</td>\n",
       "      <td>...</td>\n",
       "      <td>...</td>\n",
       "      <td>...</td>\n",
       "      <td>...</td>\n",
       "      <td>...</td>\n",
       "    </tr>\n",
       "    <tr>\n",
       "      <th>88</th>\n",
       "      <td>0.398231</td>\n",
       "      <td>False</td>\n",
       "      <td>-0.167544</td>\n",
       "      <td>0.092869</td>\n",
       "      <td>-0.157302</td>\n",
       "      <td>-1.541458</td>\n",
       "      <td>-0.104714</td>\n",
       "      <td>1.115344</td>\n",
       "      <td>-0.807810</td>\n",
       "      <td>-0.774330</td>\n",
       "      <td>...</td>\n",
       "      <td>0.064357</td>\n",
       "      <td>0.374734</td>\n",
       "      <td>-0.428773</td>\n",
       "      <td>-0.796163</td>\n",
       "      <td>0.913735</td>\n",
       "      <td>-1.023373</td>\n",
       "      <td>-0.499237</td>\n",
       "      <td>0.899415</td>\n",
       "      <td>81.10</td>\n",
       "      <td>True</td>\n",
       "    </tr>\n",
       "    <tr>\n",
       "      <th>128</th>\n",
       "      <td>0.526533</td>\n",
       "      <td>False</td>\n",
       "      <td>-0.144167</td>\n",
       "      <td>0.999351</td>\n",
       "      <td>-0.464433</td>\n",
       "      <td>0.221350</td>\n",
       "      <td>0.180706</td>\n",
       "      <td>0.348233</td>\n",
       "      <td>-1.286604</td>\n",
       "      <td>-0.016203</td>\n",
       "      <td>...</td>\n",
       "      <td>-0.437425</td>\n",
       "      <td>0.694693</td>\n",
       "      <td>1.359066</td>\n",
       "      <td>-0.851910</td>\n",
       "      <td>-0.590657</td>\n",
       "      <td>0.730951</td>\n",
       "      <td>0.469882</td>\n",
       "      <td>0.698108</td>\n",
       "      <td>31.10</td>\n",
       "      <td>False</td>\n",
       "    </tr>\n",
       "    <tr>\n",
       "      <th>214</th>\n",
       "      <td>0.532162</td>\n",
       "      <td>True</td>\n",
       "      <td>-1.165093</td>\n",
       "      <td>0.054710</td>\n",
       "      <td>0.061484</td>\n",
       "      <td>1.105007</td>\n",
       "      <td>-1.444734</td>\n",
       "      <td>-0.745216</td>\n",
       "      <td>1.015023</td>\n",
       "      <td>0.812622</td>\n",
       "      <td>...</td>\n",
       "      <td>-1.045011</td>\n",
       "      <td>0.450990</td>\n",
       "      <td>-0.128591</td>\n",
       "      <td>0.383785</td>\n",
       "      <td>0.621241</td>\n",
       "      <td>1.288581</td>\n",
       "      <td>-0.869229</td>\n",
       "      <td>0.402839</td>\n",
       "      <td>31.30</td>\n",
       "      <td>False</td>\n",
       "    </tr>\n",
       "    <tr>\n",
       "      <th>105</th>\n",
       "      <td>0.413623</td>\n",
       "      <td>False</td>\n",
       "      <td>0.284891</td>\n",
       "      <td>2.385622</td>\n",
       "      <td>0.056190</td>\n",
       "      <td>0.062825</td>\n",
       "      <td>0.596175</td>\n",
       "      <td>-0.645875</td>\n",
       "      <td>-1.104572</td>\n",
       "      <td>0.238922</td>\n",
       "      <td>...</td>\n",
       "      <td>-1.490508</td>\n",
       "      <td>0.576553</td>\n",
       "      <td>0.313603</td>\n",
       "      <td>1.451680</td>\n",
       "      <td>1.142556</td>\n",
       "      <td>0.018260</td>\n",
       "      <td>-0.451559</td>\n",
       "      <td>0.502741</td>\n",
       "      <td>39.63</td>\n",
       "      <td>False</td>\n",
       "    </tr>\n",
       "    <tr>\n",
       "      <th>92</th>\n",
       "      <td>0.518263</td>\n",
       "      <td>False</td>\n",
       "      <td>-0.825569</td>\n",
       "      <td>-0.249602</td>\n",
       "      <td>0.567517</td>\n",
       "      <td>1.808962</td>\n",
       "      <td>-0.150108</td>\n",
       "      <td>0.051949</td>\n",
       "      <td>-1.196091</td>\n",
       "      <td>0.300717</td>\n",
       "      <td>...</td>\n",
       "      <td>0.022320</td>\n",
       "      <td>0.975081</td>\n",
       "      <td>0.634123</td>\n",
       "      <td>0.923315</td>\n",
       "      <td>-0.727203</td>\n",
       "      <td>-0.387058</td>\n",
       "      <td>0.166802</td>\n",
       "      <td>-0.711099</td>\n",
       "      <td>5.53</td>\n",
       "      <td>False</td>\n",
       "    </tr>\n",
       "  </tbody>\n",
       "</table>\n",
       "<p>285 rows × 24 columns</p>\n",
       "</div>"
      ],
      "text/plain": [
       "          age    sex     rna_0     rna_1     rna_2     rna_3     rna_4  \\\n",
       "210  0.361819  False  0.208513 -0.280608 -1.668480  0.575487  0.042682   \n",
       "227  0.514013   True  1.480426 -0.878046 -1.678460  2.981747  0.251769   \n",
       "175  0.262463  False -0.508996 -1.304639  0.001803 -1.302004  0.924090   \n",
       "275   0.66816  False -0.677295  0.381518 -0.093087  0.669003 -0.826440   \n",
       "42   0.419711   True -0.485560  0.215598 -0.317173 -0.142413  1.318994   \n",
       "..        ...    ...       ...       ...       ...       ...       ...   \n",
       "88   0.398231  False -0.167544  0.092869 -0.157302 -1.541458 -0.104714   \n",
       "128  0.526533  False -0.144167  0.999351 -0.464433  0.221350  0.180706   \n",
       "214  0.532162   True -1.165093  0.054710  0.061484  1.105007 -1.444734   \n",
       "105  0.413623  False  0.284891  2.385622  0.056190  0.062825  0.596175   \n",
       "92   0.518263  False -0.825569 -0.249602  0.567517  1.808962 -0.150108   \n",
       "\n",
       "        rna_5     rna_6     rna_7  ...    meth_2    meth_3    meth_4  \\\n",
       "210 -1.211594 -0.643180  0.481223  ... -0.528559 -0.773027 -0.063867   \n",
       "227  1.044306  0.937607 -0.563596  ...  0.519211 -0.662804  0.336786   \n",
       "175  0.317242 -0.688392 -0.539895  ...  0.951112 -1.796771 -0.075716   \n",
       "275  0.063266 -0.946832 -0.278156  ...  0.474634  1.785064  1.444104   \n",
       "42  -0.509049  1.406174 -0.036836  ...  0.988675 -0.756479  0.149548   \n",
       "..        ...       ...       ...  ...       ...       ...       ...   \n",
       "88   1.115344 -0.807810 -0.774330  ...  0.064357  0.374734 -0.428773   \n",
       "128  0.348233 -1.286604 -0.016203  ... -0.437425  0.694693  1.359066   \n",
       "214 -0.745216  1.015023  0.812622  ... -1.045011  0.450990 -0.128591   \n",
       "105 -0.645875 -1.104572  0.238922  ... -1.490508  0.576553  0.313603   \n",
       "92   0.051949 -1.196091  0.300717  ...  0.022320  0.975081  0.634123   \n",
       "\n",
       "       meth_5    meth_6    meth_7    meth_8    meth_9  os_months   dead  \n",
       "210  0.002381  1.088396 -0.602421  0.580696  1.423902      41.40   True  \n",
       "227 -0.943317  0.574014 -1.561432  0.280392  0.625923      20.30  False  \n",
       "175  0.562526  0.285538  0.888306 -0.970845  0.049571      47.60  False  \n",
       "275  0.389795  0.499873 -0.373611 -0.615845  0.330140      76.30  False  \n",
       "42   0.033520  0.968170  0.385034  0.009594 -1.275835      11.40  False  \n",
       "..        ...       ...       ...       ...       ...        ...    ...  \n",
       "88  -0.796163  0.913735 -1.023373 -0.499237  0.899415      81.10   True  \n",
       "128 -0.851910 -0.590657  0.730951  0.469882  0.698108      31.10  False  \n",
       "214  0.383785  0.621241  1.288581 -0.869229  0.402839      31.30  False  \n",
       "105  1.451680  1.142556  0.018260 -0.451559  0.502741      39.63  False  \n",
       "92   0.923315 -0.727203 -0.387058  0.166802 -0.711099       5.53  False  \n",
       "\n",
       "[285 rows x 24 columns]"
      ]
     },
     "execution_count": 58,
     "metadata": {},
     "output_type": "execute_result"
    }
   ],
   "source": [
    "train_x"
   ]
  },
  {
   "cell_type": "code",
   "execution_count": 59,
   "metadata": {},
   "outputs": [
    {
     "ename": "AttributeError",
     "evalue": "CoxPHFitter has no attribute 'predict'",
     "output_type": "error",
     "traceback": [
      "\u001b[0;31m---------------------------------------------------------------------------\u001b[0m",
      "\u001b[0;31mAttributeError\u001b[0m                            Traceback (most recent call last)",
      "Input \u001b[0;32mIn [59]\u001b[0m, in \u001b[0;36m<module>\u001b[0;34m\u001b[0m\n\u001b[1;32m      1\u001b[0m cph \u001b[38;5;241m=\u001b[39m CoxPHFitter()\n\u001b[1;32m      2\u001b[0m cph\u001b[38;5;241m.\u001b[39mfit(train_x, \u001b[38;5;124m'\u001b[39m\u001b[38;5;124mos_months\u001b[39m\u001b[38;5;124m'\u001b[39m, \u001b[38;5;124m'\u001b[39m\u001b[38;5;124mdead\u001b[39m\u001b[38;5;124m'\u001b[39m)\n\u001b[0;32m----> 3\u001b[0m \u001b[43mcph\u001b[49m\u001b[38;5;241;43m.\u001b[39;49m\u001b[43mpredict\u001b[49m(train_x)\n",
      "File \u001b[0;32m/opt/conda/lib/python3.9/site-packages/lifelines/fitters/coxph_fitter.py:601\u001b[0m, in \u001b[0;36mCoxPHFitter.__getattr__\u001b[0;34m(self, attr)\u001b[0m\n\u001b[1;32m    598\u001b[0m \u001b[38;5;28;01mif\u001b[39;00m \u001b[38;5;28mhasattr\u001b[39m(\u001b[38;5;28mself\u001b[39m\u001b[38;5;241m.\u001b[39m_model, attr):\n\u001b[1;32m    599\u001b[0m     \u001b[38;5;28;01mreturn\u001b[39;00m \u001b[38;5;28mgetattr\u001b[39m(\u001b[38;5;28mself\u001b[39m\u001b[38;5;241m.\u001b[39m_model, attr)\n\u001b[0;32m--> 601\u001b[0m \u001b[38;5;28;01mraise\u001b[39;00m \u001b[38;5;167;01mAttributeError\u001b[39;00m(\u001b[38;5;124m\"\u001b[39m\u001b[38;5;132;01m%s\u001b[39;00m\u001b[38;5;124m has no attribute \u001b[39m\u001b[38;5;124m'\u001b[39m\u001b[38;5;132;01m%s\u001b[39;00m\u001b[38;5;124m'\u001b[39m\u001b[38;5;124m\"\u001b[39m \u001b[38;5;241m%\u001b[39m (\u001b[38;5;28mself\u001b[39m\u001b[38;5;241m.\u001b[39m_class_name, attr))\n",
      "\u001b[0;31mAttributeError\u001b[0m: CoxPHFitter has no attribute 'predict'"
     ]
    }
   ],
   "source": [
    "cph = CoxPHFitter()\n",
    "cph.fit(train_x, 'os_months', 'dead')\n",
    "cph.predict(train_x)"
   ]
  },
  {
   "cell_type": "code",
   "execution_count": 60,
   "metadata": {},
   "outputs": [
    {
     "data": {
      "text/plain": [
       "0.8538950183884988"
      ]
     },
     "execution_count": 60,
     "metadata": {},
     "output_type": "execute_result"
    }
   ],
   "source": [
    "cph.score(train_x, 'concordance_index')"
   ]
  },
  {
   "cell_type": "code",
   "execution_count": 61,
   "metadata": {},
   "outputs": [
    {
     "data": {
      "text/plain": [
       "241"
      ]
     },
     "execution_count": 61,
     "metadata": {},
     "output_type": "execute_result"
    }
   ],
   "source": [
    "sum(cph.predict_median(train_x) > 36)"
   ]
  },
  {
   "cell_type": "markdown",
   "metadata": {},
   "source": [
    "## 3. Test set prediction"
   ]
  },
  {
   "cell_type": "code",
   "execution_count": 62,
   "metadata": {},
   "outputs": [],
   "source": [
    "test_data = pyreadr.read_r('data_test.rds')[None]"
   ]
  },
  {
   "cell_type": "code",
   "execution_count": 63,
   "metadata": {},
   "outputs": [],
   "source": [
    "test_data.sex = (test_data.sex == 'F')\n",
    "test_data = test_data.drop(columns=['histology'])"
   ]
  },
  {
   "cell_type": "code",
   "execution_count": 64,
   "metadata": {},
   "outputs": [],
   "source": [
    "test_patient_data = test_data.loc[:, ['age', 'sex']]\n",
    "test_rna_data = test_data.iloc[:, -2000:-1000]\n",
    "test_meth_data = test_data.iloc[:, -1000:]"
   ]
  },
  {
   "cell_type": "code",
   "execution_count": 65,
   "metadata": {},
   "outputs": [],
   "source": [
    "test_rna_data = test_rna_data.loc[:, train_rna_columns]\n",
    "test_meth_data = test_meth_data.loc[:, train_meth_columns]"
   ]
  },
  {
   "cell_type": "code",
   "execution_count": null,
   "metadata": {},
   "outputs": [],
   "source": [
    "test_rna_data = pca_rna.transform(test_rna_data)\n",
    "test_meth_data = pca_meth.fit_transform(test_meth_data)"
   ]
  },
  {
   "cell_type": "code",
   "execution_count": 32,
   "metadata": {},
   "outputs": [],
   "source": [
    "test_rna_data = rna_scaler.transform(test_rna_data)\n",
    "test_meth_data = meth_scaler.transform(test_meth_data)"
   ]
  },
  {
   "cell_type": "code",
   "execution_count": 33,
   "metadata": {},
   "outputs": [],
   "source": [
    "test_rna_data = pd.DataFrame(test_rna_data, columns=[f'rna_{i}' for i in range(test_rna_data.shape[1])])\n",
    "test_meth_data = pd.DataFrame(test_meth_data, columns=[f'meth_{i}' for i in range(test_meth_data.shape[1])])\n",
    "test_patient_data = test_patient_data.reset_index()"
   ]
  },
  {
   "cell_type": "code",
   "execution_count": 34,
   "metadata": {},
   "outputs": [],
   "source": [
    "test_x = pd.concat([test_patient_data, test_rna_data, test_meth_data, test_data.loc[:, ['os_months', 'dead']].reset_index()], axis=1, ignore_index=False).drop(columns=['rownames'])\n"
   ]
  },
  {
   "cell_type": "code",
   "execution_count": 49,
   "metadata": {},
   "outputs": [
    {
     "data": {
      "text/plain": [
       "0"
      ]
     },
     "execution_count": 49,
     "metadata": {},
     "output_type": "execute_result"
    }
   ],
   "source": [
    "np.sum(cph.predict_median(test_x) > 36)"
   ]
  },
  {
   "cell_type": "code",
   "execution_count": null,
   "metadata": {},
   "outputs": [],
   "source": []
  },
  {
   "cell_type": "code",
   "execution_count": 50,
   "metadata": {},
   "outputs": [
    {
     "data": {
      "text/plain": [
       "88     True\n",
       "317    True\n",
       "55     True\n",
       "161    True\n",
       "370    True\n",
       "       ... \n",
       "229    True\n",
       "348    True\n",
       "0      True\n",
       "320    True\n",
       "228    True\n",
       "Name: 0.5, Length: 285, dtype: bool"
      ]
     },
     "execution_count": 50,
     "metadata": {},
     "output_type": "execute_result"
    }
   ],
   "source": [
    "cph.predict_median(train_x) > 36"
   ]
  },
  {
   "cell_type": "code",
   "execution_count": null,
   "metadata": {},
   "outputs": [],
   "source": []
  }
 ],
 "metadata": {
  "kernelspec": {
   "display_name": "Python 3 (ipykernel)",
   "language": "python",
   "name": "python3"
  },
  "language_info": {
   "codemirror_mode": {
    "name": "ipython",
    "version": 3
   },
   "file_extension": ".py",
   "mimetype": "text/x-python",
   "name": "python",
   "nbconvert_exporter": "python",
   "pygments_lexer": "ipython3",
   "version": "3.9.7"
  }
 },
 "nbformat": 4,
 "nbformat_minor": 4
}
