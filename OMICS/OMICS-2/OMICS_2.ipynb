{
 "cells": [
  {
   "cell_type": "code",
   "execution_count": 1,
   "id": "9de89094-5c8c-465d-bce6-23e4d3e8ac1a",
   "metadata": {},
   "outputs": [
    {
     "name": "stdout",
     "output_type": "stream",
     "text": [
      "Collecting pyreadr\n",
      "  Using cached pyreadr-0.4.4-cp39-cp39-manylinux_2_17_x86_64.manylinux2014_x86_64.whl (363 kB)\n",
      "Requirement already satisfied: pandas>=1.2.0 in /opt/conda/lib/python3.9/site-packages (from pyreadr) (1.4.0)\n",
      "Requirement already satisfied: python-dateutil>=2.8.1 in /opt/conda/lib/python3.9/site-packages (from pandas>=1.2.0->pyreadr) (2.8.2)\n",
      "Requirement already satisfied: pytz>=2020.1 in /opt/conda/lib/python3.9/site-packages (from pandas>=1.2.0->pyreadr) (2021.3)\n",
      "Requirement already satisfied: numpy>=1.18.5 in /opt/conda/lib/python3.9/site-packages (from pandas>=1.2.0->pyreadr) (1.21.5)\n",
      "Requirement already satisfied: six>=1.5 in /opt/conda/lib/python3.9/site-packages (from python-dateutil>=2.8.1->pandas>=1.2.0->pyreadr) (1.16.0)\n",
      "Installing collected packages: pyreadr\n",
      "Successfully installed pyreadr-0.4.4\n"
     ]
    }
   ],
   "source": [
    "!pip install pyreadr"
   ]
  },
  {
   "cell_type": "code",
   "execution_count": 2,
   "id": "a7c8c51c-6fca-431b-85c8-395958f13ae6",
   "metadata": {},
   "outputs": [],
   "source": [
    "#Import librairies\n",
    "import pyreadr\n",
    "import numpy as np\n",
    "from sklearn.manifold import TSNE\n",
    "import matplotlib.pyplot as plt\n",
    "import matplotlib\n",
    "from sklearn.neural_network import MLPClassifier\n",
    "matplotlib.rcParams['text.usetex'] = True"
   ]
  },
  {
   "cell_type": "code",
   "execution_count": 4,
   "id": "0ed50653-1106-40a5-836a-8d6158b8062b",
   "metadata": {},
   "outputs": [],
   "source": [
    "# # Load data\n",
    "\n",
    "result = pyreadr.read_r('data_train.rds') # also works for RData\n",
    "df = result[None] # extract the pandas data frame \n",
    "\n",
    "result_test = pyreadr.read_r('data_test.rds') # also works for RData\n",
    "df_test = result_test[None]"
   ]
  },
  {
   "cell_type": "code",
   "execution_count": 5,
   "id": "5d31b729-f3ae-4eea-9625-d6764f60cf61",
   "metadata": {},
   "outputs": [],
   "source": [
    "numerics = ['int16', 'int32', 'int64', 'float16', 'float32', 'float64']\n",
    "numerical_df = df.select_dtypes(include=numerics)\n",
    "numerical_df_test = df_test.select_dtypes(include=numerics)"
   ]
  },
  {
   "cell_type": "code",
   "execution_count": 6,
   "id": "77af30eb-8264-453c-ade3-e3dcfbdf94f8",
   "metadata": {},
   "outputs": [
    {
     "name": "stdout",
     "output_type": "stream",
     "text": [
      "[ 42 125 126 225 310 323 377 531 657 673 742 744 766 902 972]\n",
      "Index(['MIR4425', 'SNORA8', 'MIR7706', 'SNORD116_20', 'MIR891A', 'MIR22',\n",
      "       'SNORD96A', 'OR52R1', 'SNORD83B', 'SNORA52', 'MIR637', 'MIR21',\n",
      "       'SCARNA18', 'MIR490', 'MIR329_2'],\n",
      "      dtype='object')\n"
     ]
    }
   ],
   "source": [
    "\n",
    "numerical_df=(numerical_df-numerical_df.mean())/numerical_df.std()\n",
    "numerical_df_test=(numerical_df_test-numerical_df_test.mean())/numerical_df_test.std()\n",
    "\n",
    "print(np.where(np.isnan(numerical_df).sum()>0)[0])\n",
    "print(numerical_df.columns[np.where(np.isnan(numerical_df).sum()>0)[0]])\n",
    "index_non_nan = np.where(np.isnan(numerical_df).sum()==0)[0]\n",
    "numerical_df = numerical_df.iloc[:,index_non_nan]\n",
    "numerical_df_test = numerical_df_test.iloc[:,index_non_nan]"
   ]
  },
  {
   "cell_type": "code",
   "execution_count": 7,
   "id": "87b3bf29-f39f-4293-8a77-fa9864a0fffa",
   "metadata": {},
   "outputs": [],
   "source": [
    "# # t-SNE\n",
    "array = numerical_df\n",
    "index_f = np.where(np.asarray(df)[:,4]==False)\n",
    "index_t = np.where(np.asarray(df)[:,4]==True)"
   ]
  },
  {
   "cell_type": "code",
   "execution_count": 8,
   "id": "f9709445-a325-4db3-a998-8a95a087790a",
   "metadata": {},
   "outputs": [],
   "source": [
    "#Create an instance of TSNE\n",
    "tsne = TSNE(n_components=2, learning_rate='auto', init='random')\n",
    "X_embedded = tsne.fit_transform(array)"
   ]
  },
  {
   "cell_type": "code",
   "execution_count": 9,
   "id": "e588c5ce-766a-441d-ae6d-7546f14117a6",
   "metadata": {},
   "outputs": [
    {
     "data": {
      "image/png": "[encoded data removed]",
      "text/plain": [
       "<Figure size 360x360 with 1 Axes>"
      ]
     },
     "metadata": {
      "needs_background": "light"
     },
     "output_type": "display_data"
    }
   ],
   "source": [
    "plt.figure(figsize=(5,5))\n",
    "plt.scatter(X_embedded[index_f,0], X_embedded[index_f,1],label='Dead',s=3)\n",
    "plt.scatter(X_embedded[index_t,0], X_embedded[index_t,1],label='Alive',s=3)\n",
    "plt.legend()\n",
    "plt.show()"
   ]
  },
  {
   "cell_type": "code",
   "execution_count": 10,
   "id": "9411bddb-7e01-487f-9a28-3c2f371abba0",
   "metadata": {},
   "outputs": [
    {
     "data": {
      "text/plain": [
       "64"
      ]
     },
     "execution_count": 10,
     "metadata": {},
     "output_type": "execute_result"
    }
   ],
   "source": [
    "# ## remove variables\n",
    "remove_var = '''\"os_months\"    \"MIR107\"      \"SNORD115_41\" \"MIR1272\"     \"MIR30D\"      \"PRAMEF36P\"   \"MIR6737\"     \"ACTRT2\"      \"MIR517C\"     \"LINC02229\"\n",
    "\"MIR216A\"     \"OR2T5\"       \"USP17L6P\"    \"OR10A7\"      \"MIR4307\"     \"LCE2B\"       \"MIR646\"      \"MIR548AQ\"    \"CFC1B\"\n",
    "\"OR6C6\"       \"MIR934\"      \"FAM90A10P\"   \"LINC02291\"   \"CSN2\"        \"MAGEA9\"      \"OR6K2\"       \"MIR2053\"     \"OR14A2\"\n",
    "\"MIR1264\"     \"OR4F17\"      \"TTTY7B\"      \"OR10G9\"      \"MIR5591\"     \"MIR5680\"     \"MIR1911\"     \"OR13C3\"      \"MIR8068\"\n",
    "\"MIR3141\"     \"MIR7853\"     \"OR5W2\"       \"LOC649133\"   \"MIR4533\"     \"VCY\"         \"MIR6814\"     \"MIR7854\"     \"MBD3L2\"\n",
    "\"OR5J2\"       \"SNORD109B\"   \"C5orf66_AS2\" \"OR14K1\"      \"MIR4675\"     \"MIR6499\"     \"DAOA_AS1\"    \"OR8B2\"       \"MIR4684\"\n",
    "\"MIR188\"      \"MIR5088\"     \"LINC00879\"   \"LINC00411\"   \"OR8G5\"       \"LINC02297\"   \"TRIM49D1\"    \"GPR119\"      \"OR10G6\"'''\n",
    "remove_var = remove_var.split('\"')[1::2]\n",
    "len(remove_var)"
   ]
  },
  {
   "cell_type": "code",
   "execution_count": 11,
   "id": "47e00284-2897-4934-b423-1fe7affc4216",
   "metadata": {},
   "outputs": [],
   "source": [
    "numerical_df = numerical_df.drop(labels=remove_var,axis=1)\n",
    "numerical_df_test = numerical_df_test.drop(labels=remove_var,axis=1)"
   ]
  },
  {
   "cell_type": "code",
   "execution_count": 12,
   "id": "b00fd9c1-b0cb-4808-a0a6-89331f21c970",
   "metadata": {},
   "outputs": [],
   "source": [
    "array = numerical_df\n",
    "index_f = np.where(np.asarray(df)[:,4]==False)\n",
    "index_t = np.where(np.asarray(df)[:,4]==True)\n",
    "tsne = TSNE(n_components=2, learning_rate='auto', init='random')\n",
    "X_embedded = tsne.fit_transform(array)"
   ]
  },
  {
   "cell_type": "code",
   "execution_count": 13,
   "id": "aee57aa7-bbae-40c9-9bf5-9135f6781f6d",
   "metadata": {},
   "outputs": [
    {
     "data": {
      "image/png": "[encoded data removed]",
      "text/plain": [
       "<Figure size 360x360 with 1 Axes>"
      ]
     },
     "metadata": {
      "needs_background": "light"
     },
     "output_type": "display_data"
    }
   ],
   "source": [
    "plt.figure(figsize=(5,5))\n",
    "plt.scatter(X_embedded[index_f,0], X_embedded[index_f,1],label='Dead',s=3)\n",
    "plt.scatter(X_embedded[index_t,0], X_embedded[index_t,1],label='Alive',s=3)\n",
    "plt.legend()\n",
    "plt.show()"
   ]
  },
  {
   "cell_type": "code",
   "execution_count": 14,
   "id": "7c98278a-ca3d-4787-8815-aab0a75597a3",
   "metadata": {},
   "outputs": [
    {
     "name": "stdout",
     "output_type": "stream",
     "text": [
      "ZNF704 cg06971096\n"
     ]
    }
   ],
   "source": [
    "# ## Two categories\n",
    "print(numerical_df.columns[922], numerical_df.columns[923])\n",
    "# Columns of block 1\n",
    "columns1 = numerical_df.columns[1:923]\n",
    "# Columns of block 2\n",
    "columns2 = numerical_df.columns[923:]"
   ]
  },
  {
   "cell_type": "code",
   "execution_count": 15,
   "id": "8e99ab54-5b44-42a3-a9b2-5fe809f1ab87",
   "metadata": {},
   "outputs": [
    {
     "name": "stdout",
     "output_type": "stream",
     "text": [
      "270 273\n",
      "113 135\n",
      "271 273\n",
      "99 135\n",
      "272 273\n",
      "113 135\n"
     ]
    }
   ],
   "source": [
    "#Create train and test sets\n",
    "from sklearn.neural_network import MLPClassifier\n",
    "from sklearn.model_selection import train_test_split\n",
    "\n",
    "X = numerical_df\n",
    "y = df['dead']\n",
    "\n",
    "X_t1, X_t2, y_t1, y_t2 = train_test_split(X, y, test_size=0.33, random_state=42)\n",
    "\n",
    "# Net 1 for block 1\n",
    "clf1 = MLPClassifier(solver='lbfgs', alpha=1e-5,\n",
    "                    hidden_layer_sizes=(5, 2), random_state=1)\n",
    "clf1.fit(X_t1[columns1], y_t1)\n",
    "\n",
    "# Net 2 for block 2\n",
    "clf2 = MLPClassifier(solver='lbfgs', alpha=1e-5,\n",
    "                    hidden_layer_sizes=(5, 2), random_state=1)\n",
    "clf2.fit(X_t1[columns2], y_t1)\n",
    "\n",
    "# Performance of two nets separately\n",
    "print(np.sum(y_t1==clf1.predict(X_t1[columns1])), len(X_t1))\n",
    "print(np.sum(y_t2==clf1.predict(X_t2[columns1])), len(X_t2))\n",
    "\n",
    "\n",
    "print(np.sum(y_t1==clf2.predict(X_t1[columns2])), len(X_t1))\n",
    "print(np.sum(y_t2==clf2.predict(X_t2[columns2])), len(X_t2))\n",
    "\n",
    "# Aggregation of the output of 2 nets + age\n",
    "agg_y_t1 = np.vstack((X_t1['age'], clf1.predict_proba(X_t1[columns1])[:,0],clf2.predict_proba(X_t1[columns2])[:,0])).T\n",
    "agg_y_t2 = np.vstack((X_t2['age'], clf1.predict_proba(X_t2[columns1])[:,0],clf2.predict_proba(X_t2[columns2])[:,0])).T\n",
    "\n",
    "\n",
    "# Final net 3\n",
    "clf3 = MLPClassifier(solver='lbfgs', alpha=1e-5,\n",
    "                    hidden_layer_sizes=(5, 2), random_state=1)\n",
    "clf3.fit(agg_y_t1, y_t1)\n",
    "\n",
    "print(np.sum(y_t1==clf3.predict(agg_y_t1)), len(X_t1))\n",
    "print(np.sum(y_t2==clf3.predict(agg_y_t2)), len(X_t2))\n",
    "\n",
    "# Evaluation on test\n",
    "X_test = numerical_df_test[columns1]\n",
    "y_test = clf1.predict(X_test)\n"
   ]
  },
  {
   "cell_type": "code",
   "execution_count": 16,
   "id": "949ae72c-48a4-4021-8bc9-21b8dbfc2e34",
   "metadata": {},
   "outputs": [
    {
     "name": "stdout",
     "output_type": "stream",
     "text": [
      "0.9963369963369964 273\n",
      "0.837037037037037 135\n"
     ]
    }
   ],
   "source": [
    "print(np.mean(y_t1==clf3.predict(agg_y_t1)), len(X_t1))\n",
    "print(np.mean(y_t2==clf3.predict(agg_y_t2)), len(X_t2))"
   ]
  },
  {
   "cell_type": "code",
   "execution_count": 17,
   "id": "b846b57a-63fc-49af-a324-897b657a033e",
   "metadata": {},
   "outputs": [],
   "source": [
    "string = []\n",
    "for x in y_test:\n",
    "    if(x):\n",
    "        string.append('TRUE')\n",
    "    else:\n",
    "        string.append('FALSE')\n",
    "string = np.asarray(string)"
   ]
  },
  {
   "cell_type": "code",
   "execution_count": 18,
   "id": "f2e603cc-7baa-4d7c-896d-a4db5b2f9c1c",
   "metadata": {},
   "outputs": [
    {
     "data": {
      "text/plain": [
       "Index(['cg06971096', 'cg01201932', 'cg11316784', 'cg26091142', 'cg06026548',\n",
       "       'cg02039634', 'cg13130696', 'cg18464559', 'cg08103551', 'cg09099830',\n",
       "       ...\n",
       "       'cg00055848', 'cg17124408', 'cg01751470', 'cg03209541', 'cg17257676',\n",
       "       'cg09776513', 'cg00417165', 'cg10691006', 'cg26870192', 'cg18317492'],\n",
       "      dtype='object', length=1000)"
      ]
     },
     "execution_count": 18,
     "metadata": {},
     "output_type": "execute_result"
    }
   ],
   "source": [
    "columns2"
   ]
  },
  {
   "cell_type": "code",
   "execution_count": 19,
   "id": "20404cf8-c3b2-412d-b0c5-3e1a356068a6",
   "metadata": {},
   "outputs": [],
   "source": [
    "with open(r'results.txt', 'w') as f:\n",
    "    f.write(\"\\n\".join(map(str, string)))"
   ]
  }
 ],
 "metadata": {
  "kernelspec": {
   "display_name": "Python 3 (ipykernel)",
   "language": "python",
   "name": "python3"
  },
  "language_info": {
   "codemirror_mode": {
    "name": "ipython",
    "version": 3
   },
   "file_extension": ".py",
   "mimetype": "text/x-python",
   "name": "python",
   "nbconvert_exporter": "python",
   "pygments_lexer": "ipython3",
   "version": "3.9.7"
  }
 },
 "nbformat": 4,
 "nbformat_minor": 5
}
